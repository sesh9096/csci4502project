{
 "cells": [
  {
   "cell_type": "markdown",
   "id": "fe62640c-032f-4221-9432-05f908db0fd4",
   "metadata": {},
   "source": [
    "# Setup"
   ]
  },
  {
   "cell_type": "code",
   "execution_count": null,
   "id": "466bc6ef-587e-46da-b476-2ef38164e40c",
   "metadata": {
    "results": "none"
   },
   "outputs": [],
   "source": [
    "import pandas as pd\n",
    "import numpy as np\n",
    "import matplotlib.pyplot as plt\n",
    "import seaborn as sns\n",
    "from sklearn.cluster import KMeans\n"
   ]
  },
  {
   "cell_type": "markdown",
   "id": "2f318dd5-f8f0-48b8-9d2c-88d29ef43c46",
   "metadata": {},
   "source": [
    "Import data from\n",
    "<https://www.kaggle.com/competitions/nfl-big-data-bowl-2024/data>"
   ]
  },
  {
   "cell_type": "code",
   "execution_count": null,
   "id": "df1bbcfa-a840-401e-88ab-c4dc15bbda61",
   "metadata": {},
   "outputs": [],
   "source": [
    "tackles = pd.read_csv(\"../data/tackles.csv\")\n",
    "plays = pd.read_csv(\"../data/plays.csv\")\n",
    "games = pd.read_csv(\"../data/games.csv\")\n",
    "players = pd.read_csv(\"../data/players.csv\")\n",
    "tracking_weeks = [pd.read_csv(f\"../data/tracking_week_{i}_filtered.csv\") for i in range(1, 10)]\n",
    "tackles\n"
   ]
  },
  {
   "cell_type": "markdown",
   "id": "93128632-77d5-401c-8e8a-8e5b32a44433",
   "metadata": {},
   "source": [
    "Join data and store in `agg`. This will be used for future analysis"
   ]
  },
  {
   "cell_type": "code",
   "execution_count": null,
   "id": "ede31fd3-c91b-4502-a716-a8c7fbf5edc3",
   "metadata": {},
   "outputs": [],
   "source": [
    "agg = tackles.join(games.set_index(\"gameId\"), on = \"gameId\")\n",
    "agg = agg.join(players.set_index(\"nflId\"), on = \"nflId\")\n",
    "agg = agg.join(plays.set_index([\"playId\", \"gameId\"]), on = [\"playId\", \"gameId\"], how = \"inner\")\n",
    "agg = agg.join(players.set_index(\"nflId\"), on = \"ballCarrierId\", rsuffix = \"_carrier\")\n",
    "agg\n"
   ]
  },
  {
   "cell_type": "markdown",
   "id": "7dd5f509-d950-40d4-9bbf-679b14b8315e",
   "metadata": {},
   "source": [
    "As expected, this has the same number of fields as tackles and more\n",
    "columns\n",
    "\n",
    "What we have to analyze"
   ]
  },
  {
   "cell_type": "code",
   "execution_count": null,
   "id": "6d3a7a12-d5af-424a-bc62-c85471f108aa",
   "metadata": {},
   "outputs": [],
   "source": [
    "agg.columns\n"
   ]
  },
  {
   "cell_type": "markdown",
   "id": "e74d00b6-ef2a-49df-8d7b-9ba6c36ea4cb",
   "metadata": {},
   "source": [
    "``` example\n",
    "Index(['gameId', 'playId', 'nflId', 'tackle', 'assist', 'forcedFumble',\n",
    "       'pff_missedTackle', 'season', 'week', 'gameDate', 'gameTimeEastern',\n",
    "       'homeTeamAbbr', 'visitorTeamAbbr', 'homeFinalScore',\n",
    "       'visitorFinalScore', 'height', 'weight', 'birthDate', 'collegeName',\n",
    "       'position', 'displayName', 'ballCarrierId', 'ballCarrierDisplayName',\n",
    "       'playDescription', 'quarter', 'down', 'yardsToGo', 'possessionTeam',\n",
    "       'defensiveTeam', 'yardlineSide', 'yardlineNumber', 'gameClock',\n",
    "       'preSnapHomeScore', 'preSnapVisitorScore', 'passResult', 'passLength',\n",
    "       'penaltyYards', 'prePenaltyPlayResult', 'playResult',\n",
    "       'playNullifiedByPenalty', 'absoluteYardlineNumber', 'offenseFormation',\n",
    "       'defendersInTheBox', 'passProbability', 'preSnapHomeTeamWinProbability',\n",
    "       'preSnapVisitorTeamWinProbability', 'homeTeamWinProbabilityAdded',\n",
    "       'visitorTeamWinProbilityAdded', 'expectedPoints', 'expectedPointsAdded',\n",
    "       'foulName1', 'foulName2', 'foulNFLId1', 'foulNFLId2',\n",
    "       'height_ball_carrier', 'weight_ball_carrier', 'birthDate_ball_carrier',\n",
    "       'collegeName_ball_carrier', 'position_ball_carrier',\n",
    "       'displayName_ball_carrier'],\n",
    "      dtype='object')\n",
    "```\n",
    "\n",
    "# Simple graphs"
   ]
  },
  {
   "cell_type": "code",
   "execution_count": null,
   "id": "4783ebee-5d28-41e2-a0fe-ad36306bf0cf",
   "metadata": {
    "file": "yards.png",
    "results": "graphics file output"
   },
   "outputs": [],
   "source": [
    "plt.rc('figure', figsize = (6.4, 4.8))\n",
    "fig, ax = plt.subplots()\n",
    "ax.hist(agg[\"yardsToGo\"], bins = range(0, 40), edgecolor = 'C9', linewidth = 1)\n",
    "ax.set_title(\"Yards To Go\")\n",
    "ax.set_xlabel(\"yards\")\n",
    "# plt.show()\n"
   ]
  },
  {
   "cell_type": "code",
   "execution_count": null,
   "id": "d62ce9f9-f89c-4300-910a-8e0b9b44a7a2",
   "metadata": {},
   "outputs": [],
   "source": [
    "agg[\"yardsToGo\"].describe()\n"
   ]
  },
  {
   "cell_type": "markdown",
   "id": "b95eeada-8338-4c86-aa72-10ca5e316c51",
   "metadata": {},
   "source": [
    "Distance needed for a first down is quite frequently 10."
   ]
  },
  {
   "cell_type": "code",
   "execution_count": null,
   "id": "3f6af234-a8e6-41cd-8934-abc9fde4e6c8",
   "metadata": {
    "file": "time.png",
    "results": "graphics file output"
   },
   "outputs": [],
   "source": [
    "fig, ax = plt.subplots()\n",
    "ax.hist(agg[\"gameClock\"], bins = 20, edgecolor = 'C9', linewidth = 1)\n",
    "ax.set_title(\"time\")\n",
    "ax.set_xlabel(\"time\")\n",
    "# plt.show()\n"
   ]
  },
  {
   "cell_type": "markdown",
   "id": "a74eed34-ad81-428f-b7a6-4c895a44ab80",
   "metadata": {},
   "source": [
    "As time increases, number of tackles decreases, not sure if this is due\n",
    "to games ending early or some other reason yet."
   ]
  },
  {
   "cell_type": "code",
   "execution_count": null,
   "id": "b7526b18-94ae-466e-a017-ebae4c191cdd",
   "metadata": {
    "file": "defense.png",
    "results": "graphics file output"
   },
   "outputs": [],
   "source": [
    "agg.loc[agg[\"tackle\"] == 1].groupby(\"defensiveTeam\").count().plot.pie(y = \"gameId\")\n"
   ]
  },
  {
   "cell_type": "code",
   "execution_count": null,
   "id": "0c9d8b7a-b2d7-4caf-8c92-0d2c0e1855bc",
   "metadata": {
    "file": "offense.png",
    "results": "graphics file output"
   },
   "outputs": [],
   "source": [
    "agg.loc[agg[\"tackle\"] == 1].groupby(\"possessionTeam\").count().plot.pie(y = \"gameId\")\n"
   ]
  },
  {
   "cell_type": "markdown",
   "id": "2e27d9b4-d41d-4aae-bc61-825c43efca7a",
   "metadata": {},
   "source": [
    "Interestingly, all teams seem to have roughly the same number of plays\n",
    "with tackles\n",
    "\n",
    "# Future plans\n",
    "\n",
    "Use height, weight, position, etc. of player to predict whether they\n",
    "made a tackle during a game or over games\n",
    "\n",
    "# clusters"
   ]
  },
  {
   "cell_type": "code",
   "execution_count": null,
   "id": "53d3d378-19a5-478e-9f2e-30ea71266b66",
   "metadata": {
    "file": "speed.png",
    "results": "graphics file output"
   },
   "outputs": [],
   "source": [
    "all_tracking_select = pd.concat(tracking_weeks).loc[:, [\"gameId\", \"playId\", \"nflId\", \"s\", \"a\", \"o\", \"dir\"]].dropna(how=\"any\")\n",
    "agg_select = agg.loc[agg[\"tackle\"] == 1, [\"gameId\", \"playId\", \"nflId\", \"ballCarrierId\", \"pff_missedTackle\"]]\n",
    "positions = agg_select.join(all_tracking_select.set_index([\"gameId\", \"playId\", \"nflId\"]), on = [\"gameId\", \"playId\", \"nflId\"], how = \"inner\")\n",
    "positions = positions.join(all_tracking_select.set_index([\"gameId\", \"playId\", \"nflId\"]), on = [\"gameId\", \"playId\", \"ballCarrierId\"], rsuffix = \"_carrier\")\n",
    "# use pff_missedTackle for whether or not the tackle was missed\n",
    "sns.scatterplot(x=positions['s'] - positions['s_carrier'], y=(180 + positions['dir'] - positions['dir_carrier']) % 360 - 180, hue=positions['pff_missedTackle'], palette={\"black\", \"orange\"}, s=3)\n",
    "# plt.show()\n"
   ]
  },
  {
   "cell_type": "code",
   "execution_count": null,
   "id": "8cc8e165-38b4-46e6-804e-58c03f5620e8",
   "metadata": {},
   "outputs": [],
   "source": [
    "tracking_select = [tracking_week.loc[:, [\"gameId\", \"playId\", \"nflId\", \"s\", \"a\", \"o\", \"dir\"]].dropna(how=\"any\") for tracking_week in tracking_weeks]\n",
    "agg_select = agg.loc[agg[\"tackle\"] == 1, [\"gameId\", \"playId\", \"nflId\", \"ballCarrierId\", \"pff_missedTackle\"]]\n",
    "positions = [agg_select.join(df.set_index([\"gameId\", \"playId\", \"nflId\"]), on = [\"gameId\", \"playId\", \"nflId\"], how = \"inner\").join(df.set_index([\"gameId\", \"playId\", \"nflId\"]), on = [\"gameId\", \"playId\", \"ballCarrierId\"], rsuffix = \"_carrier\") for df in tracking_select]\n",
    "a = [float((df[\"s\"] - df[\"s_carrier\"]).mean()) for df in positions]\n"
   ]
  },
  {
   "cell_type": "code",
   "execution_count": null,
   "id": "bde63455-c63f-4918-b697-bb757bf68508",
   "metadata": {
    "file": "avg.png",
    "results": "graphics file output"
   },
   "outputs": [],
   "source": [
    "plt.plot(a)\n",
    "# plt.show()\n"
   ]
  },
  {
   "cell_type": "code",
   "execution_count": null,
   "id": "cc3ff0d3-dfe0-4127-8c38-dbf56d68337b",
   "metadata": {
    "file": "plt.png",
    "results": "graphics file output"
   },
   "outputs": [],
   "source": [
    "all_joined = pd.concat(joined)\n",
    "sns.scatterplot(x=all_joined[\"s\"], y=all_joined[\"a\"], hue=all_joined['tackle'], palette={\"gray\", \"red\"}, s=10)\n"
   ]
  },
  {
   "cell_type": "code",
   "execution_count": null,
   "id": "a32b7730-635d-41a5-9052-0c31e2416eb0",
   "metadata": {},
   "outputs": [],
   "source": [
    "joined[0][joined[0][\"pff_missedTackle\"] == 1]\n"
   ]
  },
  {
   "cell_type": "markdown",
   "id": "c21b61ce-6dc5-4dc1-ba0e-33fb8534d228",
   "metadata": {},
   "source": [
    "# pass length"
   ]
  },
  {
   "cell_type": "code",
   "execution_count": null,
   "id": "6965231f-dfb4-40ce-8862-91bf845864d9",
   "metadata": {},
   "outputs": [],
   "source": [
    "p = plays[~plays.passLength.isna()].passLength\n",
    "# ((p > -5) & (p < 10)).sum()\n",
    "plays.passLength.describe()\n"
   ]
  },
  {
   "cell_type": "code",
   "execution_count": null,
   "id": "36024190-2101-4b64-b806-ec43329c1e08",
   "metadata": {
    "file": "passlength.png",
    "results": "graphics file output"
   },
   "outputs": [],
   "source": [
    "plt.hist(plays.passLength, bins = 70)\n"
   ]
  },
  {
   "cell_type": "code",
   "execution_count": null,
   "id": "e6621456-5c3b-4360-8f0c-58c1af4488c1",
   "metadata": {
    "file": "length_v_result.png",
    "results": "graphics file output"
   },
   "outputs": [],
   "source": [
    "grouped = plays.join(players.set_index(\"nflId\"), on = \"ballCarrierId\").groupby(\"passLength\")\n",
    "x = [passLength for passLength, _ in grouped]\n",
    "y = [df.playResult.mean() for passLength, df in grouped]\n",
    "plt.scatter(plays.passLength, plays.playResult, s=3)\n",
    "plt.xlabel(\"passLength\")\n",
    "plt.ylabel(\"playResult\")\n",
    "plt.plot(x,y, color = \"orange\")\n",
    "plt.plot((-10,70), (-10, 70), color = \"purple\")\n",
    "\n",
    "# plt.show()\n"
   ]
  },
  {
   "cell_type": "code",
   "execution_count": null,
   "id": "cf46d22f-b0ac-4db8-b7b0-0159ef60671b",
   "metadata": {
    "file": "result-length.png",
    "results": "graphics file output"
   },
   "outputs": [],
   "source": [
    "# y = [df.playResult.mean() - df.passLength.mean() for passLength, df in grouped]\n",
    "# c = plays.join(players.set_index(\"nflId\"), on = \"ballCarrierId\", rsuffix = \"_carrier\").ballCarrierDisplayName\n",
    "# plays['yardsBeforeTackle'] = plays.playResult - plays.passLength\n",
    "# plt.scatter(plays.passLength, plays.yardsBeforeTackle, s=3, c=c, cmap='gray')\n",
    "# plt.xlabel(\"passLength\")\n",
    "# plt.ylabel(\"playResult\")\n",
    "# plt.plot(x,y, color = \"orange\")\n",
    "# # plt.plot((-10,70), (-10, 70), color = \"purple\")\n",
    "\n",
    "# plt.show()\n",
    "# y = [df.playResult.mean() - df.passLength.mean() for passLength, df in grouped]\n",
    "s = plays.join(players.set_index(\"nflId\"), on = \"ballCarrierId\", rsuffix = \"_carrier\").weight\n",
    "y = [df.playResult.mean() - df.passLength.mean() for passLength, df in grouped]\n",
    "plays['yardsBeforeTackle'] = plays.playResult - plays.passLength\n",
    "plt.scatter(plays.passLength, plays.yardsBeforeTackle, s=(s-150) / 8, c=plays.expectedPointsAdded, cmap='gray')\n",
    "plt.xlabel(\"passLength\")\n",
    "plt.ylabel(\"playResult - passLength\")\n",
    "plt.plot(x,y, color = \"orange\")\n"
   ]
  },
  {
   "cell_type": "markdown",
   "id": "ccc204b1-b35f-4314-b2c0-63b3f89c7f90",
   "metadata": {},
   "source": [
    "``` example\n",
    "480\n",
    "```"
   ]
  },
  {
   "cell_type": "code",
   "execution_count": null,
   "id": "6e1cadc2-767e-4cfa-8276-c87a0fee2c5b",
   "metadata": {
    "file": "player_run.png",
    "results": "graphics file output"
   },
   "outputs": [],
   "source": [
    "# fig, axs = plt.subplots(24, 20, figsize = (100, 100))\n",
    "# i = 0\n",
    "# for name, df in player_run:\n",
    "#     axs[i % 24, i // 24].scatter(df.passLength, df.playResult)\n",
    "#     axs[i % 24, i // 24].set_title(name)\n",
    "#     i += 1\n",
    "#     # axs[]\n",
    "plt.show()\n"
   ]
  }
 ],
 "metadata": {
  "kernelspec": {
   "display_name": "Python 3 (ipykernel)",
   "language": "python",
   "name": "python3"
  },
  "language_info": {
   "codemirror_mode": {
    "name": "ipython",
    "version": 3
   },
   "file_extension": ".py",
   "mimetype": "text/x-python",
   "name": "python",
   "nbconvert_exporter": "python",
   "pygments_lexer": "ipython3",
   "version": "3.12.7"
  }
 },
 "nbformat": 4,
 "nbformat_minor": 5
}
